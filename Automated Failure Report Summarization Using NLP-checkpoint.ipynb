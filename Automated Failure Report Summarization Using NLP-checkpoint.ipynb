{
 "cells": [
  {
   "cell_type": "code",
   "execution_count": 1,
   "id": "251b6bdc-9627-44b6-a741-1abf3900285f",
   "metadata": {},
   "outputs": [
    {
     "name": "stderr",
     "output_type": "stream",
     "text": [
      "C:\\Users\\shiva\\AppData\\Local\\Programs\\Python\\Python312\\Lib\\site-packages\\tqdm\\auto.py:21: TqdmWarning: IProgress not found. Please update jupyter and ipywidgets. See https://ipywidgets.readthedocs.io/en/stable/user_install.html\n",
      "  from .autonotebook import tqdm as notebook_tqdm\n"
     ]
    }
   ],
   "source": [
    "import pandas as pd\n",
    "import re\n",
    "import nltk\n",
    "from nltk.tokenize import sent_tokenize\n",
    "from sumy.parsers.plaintext import PlaintextParser\n",
    "from sumy.nlp.tokenizers import Tokenizer\n",
    "from sumy.summarizers.lex_rank import LexRankSummarizer\n",
    "from transformers import pipeline\n",
    "from rouge_score import rouge_scorer\n",
    "import random"
   ]
  },
  {
   "cell_type": "code",
   "execution_count": 2,
   "id": "7298f521-7c73-47aa-8af4-657630af6b7d",
   "metadata": {},
   "outputs": [
    {
     "name": "stdout",
     "output_type": "stream",
     "text": [
      "<class 'pandas.core.frame.DataFrame'>\n",
      "RangeIndex: 10000 entries, 0 to 9999\n",
      "Data columns (total 14 columns):\n",
      " #   Column                 Non-Null Count  Dtype  \n",
      "---  ------                 --------------  -----  \n",
      " 0   uid                    10000 non-null  int64  \n",
      " 1   product_id             10000 non-null  object \n",
      " 2   type                   10000 non-null  object \n",
      " 3   air_temperature_k      10000 non-null  float64\n",
      " 4   process_temperature_k  10000 non-null  float64\n",
      " 5   rotational_speed_rpm   10000 non-null  int64  \n",
      " 6   torque_nm              10000 non-null  float64\n",
      " 7   tool_wear_min          10000 non-null  int64  \n",
      " 8   machine_failure        10000 non-null  object \n",
      " 9   twf                    10000 non-null  object \n",
      " 10  hdf                    10000 non-null  object \n",
      " 11  pwf                    10000 non-null  object \n",
      " 12  osf                    10000 non-null  object \n",
      " 13  rnf                    10000 non-null  object \n",
      "dtypes: float64(3), int64(3), object(8)\n",
      "memory usage: 1.1+ MB\n",
      "None\n",
      "   uid product_id type  air_temperature_k  process_temperature_k  \\\n",
      "0    1     M14860    M              298.1                  308.6   \n",
      "1    2     L47181    L              298.2                  308.7   \n",
      "2    3     L47182    L              298.1                  308.5   \n",
      "3    4     L47183    L              298.2                  308.6   \n",
      "4    5     L47184    L              298.2                  308.7   \n",
      "\n",
      "   rotational_speed_rpm  torque_nm  tool_wear_min machine_failure twf hdf pwf  \\\n",
      "0                  1551       42.8              0               f   f   f   f   \n",
      "1                  1408       46.3              3               f   f   f   f   \n",
      "2                  1498       49.4              5               f   f   f   f   \n",
      "3                  1433       39.5              7               f   f   f   f   \n",
      "4                  1408       40.0              9               f   f   f   f   \n",
      "\n",
      "  osf rnf  \n",
      "0   f   f  \n",
      "1   f   f  \n",
      "2   f   f  \n",
      "3   f   f  \n",
      "4   f   f  \n"
     ]
    }
   ],
   "source": [
    "# Load the dataset\n",
    "df = pd.read_csv(r\"C:\\Users\\shiva\\Desktop\\Project\\Aircraft\\NLP\\machine_failure_data.csv\")  # Adjust the file path if needed\n",
    "\n",
    "# Display basic info\n",
    "print(df.info())\n",
    "print(df.head())"
   ]
  },
  {
   "cell_type": "code",
   "execution_count": 3,
   "id": "af57bdf8-0692-4e4b-8554-5c943e97fcfa",
   "metadata": {},
   "outputs": [
    {
     "name": "stdout",
     "output_type": "stream",
     "text": [
      "Index(['uid', 'product_id', 'type', 'air_temperature_k',\n",
      "       'process_temperature_k', 'rotational_speed_rpm', 'torque_nm',\n",
      "       'tool_wear_min', 'machine_failure', 'twf', 'hdf', 'pwf', 'osf', 'rnf'],\n",
      "      dtype='object')\n"
     ]
    }
   ],
   "source": [
    "print(df.columns)\n",
    "\n"
   ]
  },
  {
   "cell_type": "code",
   "execution_count": 4,
   "id": "1f973d1a-f59e-45bf-8361-3bd4bf4cc93e",
   "metadata": {},
   "outputs": [
    {
     "name": "stdout",
     "output_type": "stream",
     "text": [
      "    machine_failure  twf  hdf  pwf  osf  rnf\n",
      "0                 0    0    0    0    0    0\n",
      "1                 0    0    0    0    0    0\n",
      "2                 0    0    0    0    0    0\n",
      "3                 0    0    0    0    0    0\n",
      "4                 0    0    0    0    0    0\n",
      "5                 0    0    0    0    0    0\n",
      "6                 0    0    0    0    0    0\n",
      "7                 0    0    0    0    0    0\n",
      "8                 0    0    0    0    0    0\n",
      "9                 0    0    0    0    0    0\n",
      "10                0    0    0    0    0    0\n",
      "11                0    0    0    0    0    0\n",
      "12                0    0    0    0    0    0\n",
      "13                0    0    0    0    0    0\n",
      "14                0    0    0    0    0    0\n",
      "15                0    0    0    0    0    0\n",
      "16                0    0    0    0    0    0\n",
      "17                0    0    0    0    0    0\n",
      "18                0    0    0    0    0    0\n",
      "19                0    0    0    0    0    0\n"
     ]
    },
    {
     "name": "stderr",
     "output_type": "stream",
     "text": [
      "C:\\Users\\shiva\\AppData\\Local\\Temp\\ipykernel_23352\\539153760.py:5: FutureWarning: Downcasting behavior in `replace` is deprecated and will be removed in a future version. To retain the old behavior, explicitly call `result.infer_objects(copy=False)`. To opt-in to the future behavior, set `pd.set_option('future.no_silent_downcasting', True)`\n",
      "  df[failure_columns] = df[failure_columns].replace({\"t\": 1, \"f\": 0}).astype(int)\n"
     ]
    }
   ],
   "source": [
    "# Convert 't' to 1 and 'f' to 0 in all failure-related columns\n",
    "failure_columns = [\"machine_failure\", \"twf\", \"hdf\", \"pwf\", \"osf\", \"rnf\"]\n",
    "\n",
    "# Apply mapping for conversion\n",
    "df[failure_columns] = df[failure_columns].replace({\"t\": 1, \"f\": 0}).astype(int)\n",
    "\n",
    "# Verify the changes\n",
    "print(df[failure_columns].head(20))  # Display first 20 rows to check conversion\n"
   ]
  },
  {
   "cell_type": "code",
   "execution_count": 5,
   "id": "6b6fff4f-9618-42b8-b75a-c4fd98a333f6",
   "metadata": {},
   "outputs": [
    {
     "name": "stdout",
     "output_type": "stream",
     "text": [
      "    machine_failure          failure_description\n",
      "0                 0  Machine operating normally.\n",
      "1                 0  Machine operating normally.\n",
      "2                 0  Machine operating normally.\n",
      "3                 0  Machine operating normally.\n",
      "4                 0  Machine operating normally.\n",
      "5                 0  Machine operating normally.\n",
      "6                 0  Machine operating normally.\n",
      "7                 0  Machine operating normally.\n",
      "8                 0  Machine operating normally.\n",
      "9                 0  Machine operating normally.\n",
      "10                0  Machine operating normally.\n",
      "11                0  Machine operating normally.\n",
      "12                0  Machine operating normally.\n",
      "13                0  Machine operating normally.\n",
      "14                0  Machine operating normally.\n",
      "15                0  Machine operating normally.\n",
      "16                0  Machine operating normally.\n",
      "17                0  Machine operating normally.\n",
      "18                0  Machine operating normally.\n",
      "19                0  Machine operating normally.\n"
     ]
    }
   ],
   "source": [
    "# Abstractive Summarization\n",
    "def generate_failure_text(row):\n",
    "    conditions = []\n",
    "\n",
    "    # Ensure failure-related columns exist and use lowercase\n",
    "    if \"twf\" in row and row[\"twf\"] == 1:\n",
    "        conditions.append(\"Tool wear failure detected due to prolonged use.\")\n",
    "    if \"hdf\" in row and row[\"hdf\"] == 1:\n",
    "        conditions.append(\"Heat dissipation failure due to poor cooling efficiency.\")\n",
    "    if \"pwf\" in row and row[\"pwf\"] == 1:\n",
    "        conditions.append(\"Power failure due to energy overload or deficiency.\")\n",
    "    if \"osf\" in row and row[\"osf\"] == 1:\n",
    "        conditions.append(\"Overstrain failure detected due to excessive torque or tool wear.\")\n",
    "    if \"rnf\" in row and row[\"rnf\"] == 1:\n",
    "        conditions.append(\"Random failure detected without known cause.\")\n",
    "\n",
    "    return \" \".join(conditions) if conditions else \"Machine operating normally.\"\n",
    "\n",
    "# Apply updated function\n",
    "df[\"failure_description\"] = df.apply(generate_failure_text, axis=1)\n",
    "\n",
    "# Display failure descriptions\n",
    "print(df[[\"machine_failure\", \"failure_description\"]].head(20))  # Show first 20 rows\n"
   ]
  },
  {
   "cell_type": "code",
   "execution_count": 6,
   "id": "0d4b3e0e-3473-483f-8ab6-3ddcab5df7fe",
   "metadata": {},
   "outputs": [
    {
     "name": "stdout",
     "output_type": "stream",
     "text": [
      "Failure Counts:\n",
      " twf     46\n",
      "hdf    115\n",
      "pwf     95\n",
      "osf     98\n",
      "rnf     19\n",
      "dtype: int64\n",
      "     machine_failure                                failure_description\n",
      "50                 1  Power failure due to energy overload or defici...\n",
      "69                 1  Power failure due to energy overload or defici...\n",
      "77                 1   Tool wear failure detected due to prolonged use.\n",
      "160                1  Overstrain failure detected due to excessive t...\n",
      "161                1  Overstrain failure detected due to excessive t...\n",
      "168                1  Power failure due to energy overload or defici...\n",
      "194                1  Power failure due to energy overload or defici...\n",
      "207                1  Power failure due to energy overload or defici...\n",
      "242                1  Overstrain failure detected due to excessive t...\n",
      "248                1  Overstrain failure detected due to excessive t...\n",
      "249                1  Overstrain failure detected due to excessive t...\n",
      "259                1  Power failure due to energy overload or defici...\n",
      "327                1  Overstrain failure detected due to excessive t...\n",
      "380                1  Power failure due to energy overload or defici...\n",
      "442                1  Power failure due to energy overload or defici...\n",
      "463                1  Power failure due to energy overload or defici...\n",
      "586                1  Overstrain failure detected due to excessive t...\n",
      "603                1  Power failure due to energy overload or defici...\n",
      "746                1  Overstrain failure detected due to excessive t...\n",
      "847                1  Power failure due to energy overload or defici...\n"
     ]
    }
   ],
   "source": [
    "# Count failures by type\n",
    "print(\"Failure Counts:\\n\", df[[\"twf\", \"hdf\", \"pwf\", \"osf\", \"rnf\"]].sum())\n",
    "\n",
    "# Show only failed machines\n",
    "df_failures = df[df[\"machine_failure\"] == 1]\n",
    "print(df_failures[[\"machine_failure\", \"failure_description\"]].head(20))\n"
   ]
  },
  {
   "cell_type": "code",
   "execution_count": 7,
   "id": "4633b34a-570b-4aeb-bacd-739d564fe949",
   "metadata": {},
   "outputs": [
    {
     "name": "stdout",
     "output_type": "stream",
     "text": [
      "Average text length: 3.2098\n",
      "Min text length: 3\n",
      "Max text length: 26\n",
      "0    Machine operating normally.\n",
      "1    Machine operating normally.\n",
      "2    Machine operating normally.\n",
      "3    Machine operating normally.\n",
      "4    Machine operating normally.\n",
      "5    Machine operating normally.\n",
      "6    Machine operating normally.\n",
      "7    Machine operating normally.\n",
      "8    Machine operating normally.\n",
      "9    Machine operating normally.\n",
      "Name: failure_description, dtype: object\n"
     ]
    }
   ],
   "source": [
    "# Check length of failure descriptions\n",
    "df[\"text_length\"] = df[\"failure_description\"].apply(lambda x: len(x.split()))\n",
    "\n",
    "# Show stats\n",
    "print(\"Average text length:\", df[\"text_length\"].mean())\n",
    "print(\"Min text length:\", df[\"text_length\"].min())\n",
    "print(\"Max text length:\", df[\"text_length\"].max())\n",
    "\n",
    "# Display sample failure descriptions\n",
    "print(df[\"failure_description\"].head(10))\n"
   ]
  },
  {
   "cell_type": "code",
   "execution_count": null,
   "id": "0540420c-c00c-460b-a07a-13627d258aaa",
   "metadata": {},
   "outputs": [
    {
     "name": "stdout",
     "output_type": "stream",
     "text": [
      "🤖 Chatbot: Hello! How can I assist you with machine failures? Type 'exit' to quit.\n"
     ]
    },
    {
     "name": "stdin",
     "output_type": "stream",
     "text": [
      "👨‍🔧 You:  The machine overheated\n"
     ]
    },
    {
     "name": "stdout",
     "output_type": "stream",
     "text": [
      "🤖 Chatbot: The temperature difference is too low. Ensure ventilation is working.\n"
     ]
    },
    {
     "name": "stdin",
     "output_type": "stream",
     "text": [
      "👨‍🔧 You:  My machine has overheating issues.\n"
     ]
    },
    {
     "name": "stdout",
     "output_type": "stream",
     "text": [
      "🤖 Chatbot: Heat dissipation failure detected. Check the cooling system.\n"
     ]
    },
    {
     "name": "stdin",
     "output_type": "stream",
     "text": [
      "👨‍🔧 You:  machine overheated\n"
     ]
    },
    {
     "name": "stdout",
     "output_type": "stream",
     "text": [
      "🤖 Chatbot: Heat dissipation failure detected. Check the cooling system.\n"
     ]
    },
    {
     "name": "stdin",
     "output_type": "stream",
     "text": [
      "👨‍🔧 You:  machine overheated\n"
     ]
    },
    {
     "name": "stdout",
     "output_type": "stream",
     "text": [
      "🤖 Chatbot: Heat dissipation failure detected. Check the cooling system.\n"
     ]
    },
    {
     "name": "stdin",
     "output_type": "stream",
     "text": [
      "👨‍🔧 You:  Power is unstable and keeps turning off.\n"
     ]
    },
    {
     "name": "stdout",
     "output_type": "stream",
     "text": [
      "🤖 Chatbot: Power failure detected. Inspect electrical connections.\n"
     ]
    },
    {
     "name": "stdin",
     "output_type": "stream",
     "text": [
      "👨‍🔧 You:  The torque is too high.\n"
     ]
    },
    {
     "name": "stdout",
     "output_type": "stream",
     "text": [
      "🤖 Chatbot: Overstrain failure detected. Reduce torque or inspect mechanical stress.\n"
     ]
    },
    {
     "name": "stdin",
     "output_type": "stream",
     "text": [
      "👨‍🔧 You:  machine overheated\n"
     ]
    },
    {
     "name": "stdout",
     "output_type": "stream",
     "text": [
      "🤖 Chatbot: The temperature difference is too low. Ensure ventilation is working.\n"
     ]
    },
    {
     "name": "stdin",
     "output_type": "stream",
     "text": [
      "👨‍🔧 You:  machine under heat\n"
     ]
    },
    {
     "name": "stdout",
     "output_type": "stream",
     "text": [
      "🤖 Chatbot: Heat dissipation failure detected. Check the cooling system.\n"
     ]
    }
   ],
   "source": [
    "\n",
    "\n",
    "# Define responses for different failure types\n",
    "failure_responses = {\n",
    "    \"twf\": [\"Tool wear failure detected. Consider replacing the tool.\", \n",
    "            \"Tool wear is above the limit. Inspect the tool for damage.\"],\n",
    "    \n",
    "    \"hdf\": [\"Heat dissipation failure detected. Check the cooling system.\", \n",
    "            \"The temperature difference is too low. Ensure ventilation is working.\"],\n",
    "    \n",
    "    \"pwf\": [\"Power failure detected. Inspect electrical connections.\", \n",
    "            \"Machine power is unstable. Verify power supply consistency.\"],\n",
    "    \n",
    "    \"osf\": [\"Overstrain failure detected. Reduce torque or inspect mechanical stress.\", \n",
    "            \"Overstrain on the machine may cause part failure. Perform a mechanical inspection.\"],\n",
    "    \n",
    "    \"rnf\": [\"Random failure detected. Further diagnostics required.\", \n",
    "            \"Unknown failure detected. Contact technical support for further investigation.\"]\n",
    "}\n",
    "\n",
    "# Function to classify user input into failure types\n",
    "def classify_failure(user_input):\n",
    "    user_input = user_input.lower()\n",
    "    \n",
    "    if \"tool\" in user_input or \"wear\" in user_input:\n",
    "        return \"twf\"\n",
    "    elif \"heat\" in user_input or \"temperature\" in user_input:\n",
    "        return \"hdf\"\n",
    "    elif \"power\" in user_input or \"electric\" in user_input:\n",
    "        return \"pwf\"\n",
    "    elif \"strain\" in user_input or \"torque\" in user_input:\n",
    "        return \"osf\"\n",
    "    elif \"random\" in user_input or \"unknown\" in user_input:\n",
    "        return \"rnf\"\n",
    "    else:\n",
    "        return None\n",
    "\n",
    "# Function to generate chatbot response\n",
    "def chatbot_response(user_input):\n",
    "    failure_type = classify_failure(user_input)\n",
    "    \n",
    "    if failure_type:\n",
    "        return random.choice(failure_responses[failure_type])\n",
    "    else:\n",
    "        return \"I couldn't identify the failure. Please describe the issue in more detail.\"\n",
    "\n",
    "# Run the chatbot interactively\n",
    "print(\"🤖 Chatbot: Hello! How can I assist you with machine failures? Type 'exit' to quit.\")\n",
    "\n",
    "while True:\n",
    "    user_input = input(\"👨‍🔧 You: \")\n",
    "    if user_input.lower() == \"exit\":\n",
    "        print(\"🤖 Chatbot: Goodbye! Stay safe with your machines.\")\n",
    "        break\n",
    "    response = chatbot_response(user_input)\n",
    "    print(f\"🤖 Chatbot: {response}\")\n"
   ]
  }
 ],
 "metadata": {
  "kernelspec": {
   "display_name": "Python 3 (ipykernel)",
   "language": "python",
   "name": "python3"
  },
  "language_info": {
   "codemirror_mode": {
    "name": "ipython",
    "version": 3
   },
   "file_extension": ".py",
   "mimetype": "text/x-python",
   "name": "python",
   "nbconvert_exporter": "python",
   "pygments_lexer": "ipython3",
   "version": "3.12.3"
  }
 },
 "nbformat": 4,
 "nbformat_minor": 5
}
